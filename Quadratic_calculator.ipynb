{
 "cells": [
  {
   "cell_type": "code",
   "execution_count": null,
   "id": "ba309ef3",
   "metadata": {},
   "outputs": [
    {
     "name": "stdout",
     "output_type": "stream",
     "text": [
      "your a,b,c values can be specified by any letters\n"
     ]
    }
   ],
   "source": [
    "import math\n",
    "import cmath\n",
    "\n",
    "def quad_calculator(a, b, c):\n",
    "    #setting b2-4ac as formula_1\n",
    "    formula_1 = b**2 - 4*a*c\n",
    "    \n",
    "    #checks for real value \n",
    "    if formula_1  >= 0:\n",
    "        solver_1 = (-b + math.sqrt(formula_1)) / (2*a)\n",
    "        solver_2 = (-b - math.sqrt(formula_1)) / (2*a)\n",
    "    #checks for complex value\n",
    "    else:\n",
    "        solver_1 = (-b + cmath.sqrt(formula_1)) / (2*a)\n",
    "        solver_2 = (-b - cmath.sqrt(formula_1)) / (2*a)\n",
    "        \n",
    "    return f\"root of equation is {solver_1} or {solver_2}\"\n",
    "\n",
    "print('your a,b,c values can be specified by any letters')\n",
    "\n",
    "a = int(input(\"enter value of  a: \"))\n",
    "b = int(input(\"enter value of b: \"))\n",
    "c = int(input(\"enter value of c: \"))\n",
    "\n",
    "print(quad_calculator(a, b, c))\n",
    "    "
   ]
  },
  {
   "cell_type": "code",
   "execution_count": null,
   "id": "c0fad375",
   "metadata": {},
   "outputs": [],
   "source": []
  },
  {
   "cell_type": "code",
   "execution_count": null,
   "id": "b32db2be",
   "metadata": {},
   "outputs": [],
   "source": []
  }
 ],
 "metadata": {
  "kernelspec": {
   "display_name": "Python 3 (ipykernel)",
   "language": "python",
   "name": "python3"
  },
  "language_info": {
   "codemirror_mode": {
    "name": "ipython",
    "version": 3
   },
   "file_extension": ".py",
   "mimetype": "text/x-python",
   "name": "python",
   "nbconvert_exporter": "python",
   "pygments_lexer": "ipython3",
   "version": "3.11.4"
  }
 },
 "nbformat": 4,
 "nbformat_minor": 5
}
